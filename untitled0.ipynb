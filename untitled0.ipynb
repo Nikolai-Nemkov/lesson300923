{
  "nbformat": 4,
  "nbformat_minor": 0,
  "metadata": {
    "colab": {
      "provenance": [],
      "toc_visible": true,
      "authorship_tag": "ABX9TyOH2GgBpxVTa9L8dj8XFML8",
      "include_colab_link": true
    },
    "kernelspec": {
      "name": "python3",
      "display_name": "Python 3"
    },
    "language_info": {
      "name": "python"
    }
  },
  "cells": [
    {
      "cell_type": "markdown",
      "metadata": {
        "id": "view-in-github",
        "colab_type": "text"
      },
      "source": [
        "<a href=\"https://colab.research.google.com/github/Nikolai-Nemkov/lesson300923/blob/main/untitled0.ipynb\" target=\"_parent\"><img src=\"https://colab.research.google.com/assets/colab-badge.svg\" alt=\"Open In Colab\"/></a>"
      ]
    },
    {
      "cell_type": "code",
      "execution_count": null,
      "metadata": {
        "id": "zVkUigQBWH5J"
      },
      "outputs": [],
      "source": [
        "GHSDTN"
      ]
    },
    {
      "cell_type": "markdown",
      "source": [],
      "metadata": {
        "id": "9nU0I2ICg4UI"
      }
    },
    {
      "cell_type": "code",
      "source": [],
      "metadata": {
        "id": "YJdxvuBUhW_L"
      },
      "execution_count": null,
      "outputs": []
    },
    {
      "cell_type": "code",
      "source": [
        "\n",
        "\n",
        "adsgsfbcvnbvasf98yu`12i34=-56ebjovkalbj MXZ<Cxvc\n",
        "\n",
        "\n",
        "-09 qhwjpagdosfnm [pckNBAFOLXB ]`\n",
        "\n",
        "\n"
      ],
      "metadata": {
        "id": "sO6b0NsvZzBU"
      },
      "execution_count": null,
      "outputs": []
    },
    {
      "cell_type": "code",
      "source": [
        "\n",
        "from random import randint\n",
        "\n",
        "var1 = set(randint(1, 20)\n",
        "for i in range(int(input('Введите кол-во элементов первого множества: '))))\n",
        "print(var1)\n",
        "var2 = set(randint(1, 20)\n",
        "for i in range(int(input('Введите кол-во элементов второго множества: '))))\n",
        "print(var2)\n",
        "var3 = sorted(var1.intersection(var2))\n",
        "print(*var3)\n"
      ],
      "metadata": {
        "colab": {
          "base_uri": "https://localhost:8080/"
        },
        "outputId": "ca25b796-9cab-4840-8191-7c78eefafb05",
        "id": "CymiKTQhfRTk"
      },
      "execution_count": null,
      "outputs": [
        {
          "output_type": "stream",
          "name": "stdout",
          "text": [
            "Введите кол-во элементов первого множества: 5\n",
            "{1, 4, 12, 14, 18}\n",
            "Введите кол-во элементов второго множества: 8\n",
            "{1, 4, 6, 12, 13, 15}\n",
            "1 4 12\n"
          ]
        }
      ]
    }
  ]
}